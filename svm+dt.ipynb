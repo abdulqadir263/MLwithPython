{
 "cells": [
  {
   "cell_type": "markdown",
   "id": "7e15f1ef-cb47-449f-9ac3-6ffe492d14d4",
   "metadata": {},
   "source": [
    "# Fraud Detection Uisng SVM and Decision Trees"
   ]
  },
  {
   "cell_type": "code",
   "execution_count": null,
   "id": "4d1aafce-9c0a-471a-91d5-3a49eda68901",
   "metadata": {},
   "outputs": [],
   "source": [
    "# Import the libraries we need to use in this lab\n",
    "from __future__ import print_function\n",
    "import pandas as pd\n",
    "import matplotlib.pyplot as plt\n",
    "%matplotlib inline\n",
    "from sklearn.model_selection import train_test_split\n",
    "from sklearn.preprocessing import normalize, StandardScaler\n",
    "from sklearn.utils.class_weight import compute_sample_weight\n",
    "from sklearn.tree import DecisionTreeClassifier\n",
    "from sklearn.metrics import roc_auc_score\n",
    "from sklearn.svm import LinearSVC\n",
    "\n",
    "import warnings\n",
    "warnings.filterwarnings('ignore')"
   ]
  },
  {
   "cell_type": "code",
   "execution_count": null,
   "id": "2756a14e-6c22-47cd-bce1-029a3ebf2aa1",
   "metadata": {},
   "outputs": [],
   "source": [
    "# download the dataset\n",
    "url= \"https://cf-courses-data.s3.us.cloud-object-storage.appdomain.cloud/IBMDeveloperSkillsNetwork-ML0101EN-SkillsNetwork/labs/Module%203/data/creditcard.csv\"\n",
    "\n",
    "# read the input data\n",
    "raw_data=pd.read_csv(url)\n",
    "raw_data.head()"
   ]
  },
  {
   "cell_type": "code",
   "execution_count": null,
   "id": "9455076d-47e5-4a03-9f1c-4e0cb8726a61",
   "metadata": {},
   "outputs": [],
   "source": [
    "# get the set of distinct classes\n",
    "labels = raw_data.Class.unique()\n",
    "\n",
    "# get the count of each class\n",
    "sizes = raw_data.Class.value_counts().values\n",
    "\n",
    "# plot the class value counts\n",
    "fig, ax = plt.subplots()\n",
    "ax.pie(sizes, labels=labels, autopct='%1.3f%%')\n",
    "ax.set_title('Target Variable Value Counts')\n",
    "plt.show()"
   ]
  },
  {
   "cell_type": "code",
   "execution_count": null,
   "id": "605af3e5-3e1d-4913-8991-1345d7044651",
   "metadata": {},
   "outputs": [],
   "source": [
    "correlation_values = raw_data.corr()['Class'].drop('Class')\n",
    "correlation_values.plot(kind='barh', figsize=(10, 6))"
   ]
  },
  {
   "cell_type": "code",
   "execution_count": null,
   "id": "0c50cb35-eb49-4c85-ac3f-88b32912cd02",
   "metadata": {},
   "outputs": [],
   "source": [
    "# standardize features by removing the mean and scaling to unit variance\n",
    "raw_data.iloc[:, 1:30] = StandardScaler().fit_transform(raw_data.iloc[:, 1:30])\n",
    "data_matrix = raw_data.values\n",
    "\n",
    "# X: feature matrix (for this analysis, we exclude the Time variable from the dataset)\n",
    "X = data_matrix[:, 1:30]\n",
    "\n",
    "# y: labels vector\n",
    "y = data_matrix[:, 30]\n",
    "\n",
    "# data normalization\n",
    "X = normalize(X, norm=\"l1\")"
   ]
  },
  {
   "cell_type": "code",
   "execution_count": null,
   "id": "ba3ac59c-4983-4ff7-9f87-4afedc3d5c65",
   "metadata": {},
   "outputs": [],
   "source": [
    "X_train, X_test, y_train, y_test = train_test_split(X, y, test_size=0.3, random_state=42)"
   ]
  },
  {
   "cell_type": "code",
   "execution_count": null,
   "id": "36705d49-fea3-4962-b182-b9a2894c5e49",
   "metadata": {},
   "outputs": [],
   "source": [
    "w_train = compute_sample_weight('balanced', y_train)"
   ]
  },
  {
   "cell_type": "code",
   "execution_count": null,
   "id": "13fe842f-146c-4127-99a9-d8ff9db98bd9",
   "metadata": {},
   "outputs": [],
   "source": [
    "# for reproducible output across multiple function calls, set random_state to a given integer value\n",
    "dt = DecisionTreeClassifier(max_depth=4, random_state=35)\n",
    "\n",
    "dt.fit(X_train, y_train, sample_weight=w_train)"
   ]
  },
  {
   "cell_type": "code",
   "execution_count": null,
   "id": "8c3ada2b-bb34-4c9a-8a77-353801a68122",
   "metadata": {},
   "outputs": [],
   "source": [
    "# for reproducible output across multiple function calls, set random_state to a given integer value\n",
    "svm = LinearSVC(class_weight='balanced', random_state=31, loss=\"hinge\", fit_intercept=False)\n",
    "\n",
    "svm.fit(X_train, y_train)"
   ]
  },
  {
   "cell_type": "code",
   "execution_count": null,
   "id": "3ee3735f-0b8b-45ac-8599-23edb6783c04",
   "metadata": {},
   "outputs": [],
   "source": [
    "y_pred_dt = dt.predict_proba(X_test)[:,1]"
   ]
  },
  {
   "cell_type": "code",
   "execution_count": null,
   "id": "01698b90-77b9-41f8-8d9e-2040a809194e",
   "metadata": {},
   "outputs": [],
   "source": [
    "roc_auc_dt = roc_auc_score(y_test, y_pred_dt)\n",
    "print('Decision Tree ROC-AUC score : {0:.3f}'.format(roc_auc_dt))"
   ]
  },
  {
   "cell_type": "code",
   "execution_count": null,
   "id": "a89a5c7e-116d-48c5-9224-919e7e33e33a",
   "metadata": {},
   "outputs": [],
   "source": [
    "y_pred_svm = svm.decision_function(X_test)"
   ]
  },
  {
   "cell_type": "code",
   "execution_count": null,
   "id": "d0b5d60a-5530-4647-af3e-71e1f3f276c3",
   "metadata": {},
   "outputs": [],
   "source": [
    "roc_auc_svm = roc_auc_score(y_test, y_pred_svm)\n",
    "print(\"SVM ROC-AUC score: {0:.3f}\".format(roc_auc_svm))"
   ]
  },
  {
   "cell_type": "code",
   "execution_count": null,
   "id": "b92a6ab8-cd3e-4c41-99b2-9f7121e66a15",
   "metadata": {},
   "outputs": [],
   "source": [
    "correlation_values = abs(raw_data.corr()['Class']).drop('Class')\n",
    "correlation_values = correlation_values.sort_values(ascending=False)[:6]\n",
    "correlation_values"
   ]
  },
  {
   "cell_type": "code",
   "execution_count": null,
   "id": "6fcba7a7-d745-4ee5-9074-16ee4d878b25",
   "metadata": {},
   "outputs": [],
   "source": [
    "# X = data_matrix[:,[3,10,12,14,16,17]]\n",
    "# replace with x , in upper cells"
   ]
  },
  {
   "cell_type": "code",
   "execution_count": null,
   "id": "f2a4fc8f-e25f-48b4-a070-0b0341a89bec",
   "metadata": {},
   "outputs": [],
   "source": []
  }
 ],
 "metadata": {
  "kernelspec": {
   "display_name": "Python 3 (ipykernel)",
   "language": "python",
   "name": "python3"
  },
  "language_info": {
   "codemirror_mode": {
    "name": "ipython",
    "version": 3
   },
   "file_extension": ".py",
   "mimetype": "text/x-python",
   "name": "python",
   "nbconvert_exporter": "python",
   "pygments_lexer": "ipython3",
   "version": "3.12.9"
  }
 },
 "nbformat": 4,
 "nbformat_minor": 5
}
